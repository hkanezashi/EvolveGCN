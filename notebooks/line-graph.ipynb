{
 "cells": [
  {
   "cell_type": "code",
   "execution_count": 10,
   "id": "9ab6c453-0291-47f4-beb0-32de3f9d6372",
   "metadata": {},
   "outputs": [],
   "source": [
    "import networkx as nx\n",
    "from itertools import product\n",
    "import numpy as np\n",
    "import pandas as pd"
   ]
  },
  {
   "cell_type": "code",
   "execution_count": 5,
   "id": "00dc73f7-6adc-4e5c-bbbb-bcda9babfcfa",
   "metadata": {},
   "outputs": [
    {
     "data": {
      "text/html": [
       "<div>\n",
       "<style scoped>\n",
       "    .dataframe tbody tr th:only-of-type {\n",
       "        vertical-align: middle;\n",
       "    }\n",
       "\n",
       "    .dataframe tbody tr th {\n",
       "        vertical-align: top;\n",
       "    }\n",
       "\n",
       "    .dataframe thead th {\n",
       "        text-align: right;\n",
       "    }\n",
       "</style>\n",
       "<table border=\"1\" class=\"dataframe\">\n",
       "  <thead>\n",
       "    <tr style=\"text-align: right;\">\n",
       "      <th></th>\n",
       "      <th>user_id</th>\n",
       "      <th>item_id</th>\n",
       "      <th>timestamp</th>\n",
       "    </tr>\n",
       "  </thead>\n",
       "  <tbody>\n",
       "    <tr>\n",
       "      <th>0</th>\n",
       "      <td>0</td>\n",
       "      <td>0</td>\n",
       "      <td>0</td>\n",
       "    </tr>\n",
       "    <tr>\n",
       "      <th>1</th>\n",
       "      <td>0</td>\n",
       "      <td>1</td>\n",
       "      <td>0</td>\n",
       "    </tr>\n",
       "    <tr>\n",
       "      <th>2</th>\n",
       "      <td>1</td>\n",
       "      <td>2</td>\n",
       "      <td>1</td>\n",
       "    </tr>\n",
       "    <tr>\n",
       "      <th>3</th>\n",
       "      <td>1</td>\n",
       "      <td>1</td>\n",
       "      <td>1</td>\n",
       "    </tr>\n",
       "    <tr>\n",
       "      <th>4</th>\n",
       "      <td>2</td>\n",
       "      <td>0</td>\n",
       "      <td>2</td>\n",
       "    </tr>\n",
       "    <tr>\n",
       "      <th>5</th>\n",
       "      <td>2</td>\n",
       "      <td>2</td>\n",
       "      <td>2</td>\n",
       "    </tr>\n",
       "  </tbody>\n",
       "</table>\n",
       "</div>"
      ],
      "text/plain": [
       "   user_id  item_id  timestamp\n",
       "0        0        0          0\n",
       "1        0        1          0\n",
       "2        1        2          1\n",
       "3        1        1          1\n",
       "4        2        0          2\n",
       "5        2        2          2"
      ]
     },
     "execution_count": 5,
     "metadata": {},
     "output_type": "execute_result"
    }
   ],
   "source": [
    "# Sample edge list\n",
    "users = [0, 0, 1, 1, 2, 2]\n",
    "items = [0, 1, 2, 1, 0, 2]\n",
    "steps = [0, 0, 1, 1, 2, 2]\n",
    "df = pd.DataFrame({\"user_id\": users, \"item_id\": items, \"timestamp\": steps}).sort_values(by=\"timestamp\")\n",
    "df"
   ]
  },
  {
   "cell_type": "code",
   "execution_count": 33,
   "id": "62f5fc0e-6e60-4481-91b6-ee330dfcafb2",
   "metadata": {},
   "outputs": [
    {
     "name": "stdout",
     "output_type": "stream",
     "text": [
      "3 Users: 0 - 2\n",
      "3 Users: 0 - 2\n"
     ]
    }
   ],
   "source": [
    "user_idx = sorted(df[\"user_id\"].unique())\n",
    "item_idx = sorted(df[\"item_id\"].unique())\n",
    "\n",
    "print(\"{} Users: {} - {}\".format(len(user_idx), min(user_idx), max(user_idx)))\n",
    "print(\"{} Users: {} - {}\".format(len(item_idx), min(item_idx), max(item_idx)))"
   ]
  },
  {
   "cell_type": "code",
   "execution_count": 44,
   "id": "c3f2635b-dd96-4798-9a50-de825a57ec6a",
   "metadata": {},
   "outputs": [],
   "source": [
    "orig_g = nx.Graph()  # Original bipartite graph\n",
    "line_g = nx.Graph()  # Line graph of orig_g\n",
    "\n",
    "def get_user_id(idx):\n",
    "    return \"u{}\".format(idx)\n",
    "\n",
    "def get_item_id(idx):\n",
    "    return \"i{}\".format(idx)\n",
    "\n",
    "user_ids = [get_user_id(n) for n in user_idx]\n",
    "item_ids = [get_item_id(n) for n in item_idx]\n",
    "orig_g.add_nodes_from(user_ids + item_ids)\n",
    "\n",
    "all_possible_edges = list(product(user_ids, item_ids))\n",
    "line_g.add_nodes_from(all_possible_edges)\n",
    "nx.set_node_attributes(line_g, 0, \"exists\")  # Label"
   ]
  },
  {
   "cell_type": "code",
   "execution_count": 45,
   "id": "669a9496-e3f1-4121-8179-0462f667a05a",
   "metadata": {},
   "outputs": [
    {
     "name": "stdout",
     "output_type": "stream",
     "text": [
      "==== time 0 ====\n",
      "Line graph edges: [(('u0', 'i0'), ('u0', 'i1'))]\n",
      "Line graph exists: {('u0', 'i0'): 1, ('u0', 'i1'): 1, ('u0', 'i2'): 0, ('u1', 'i0'): 0, ('u1', 'i1'): 0, ('u1', 'i2'): 0, ('u2', 'i0'): 0, ('u2', 'i1'): 0, ('u2', 'i2'): 0}\n",
      "==== time 1 ====\n",
      "Line graph edges: [(('u0', 'i0'), ('u0', 'i1')), (('u0', 'i1'), ('u1', 'i1')), (('u1', 'i1'), ('u1', 'i2'))]\n",
      "Line graph exists: {('u0', 'i0'): 1, ('u0', 'i1'): 1, ('u0', 'i2'): 0, ('u1', 'i0'): 0, ('u1', 'i1'): 1, ('u1', 'i2'): 1, ('u2', 'i0'): 0, ('u2', 'i1'): 0, ('u2', 'i2'): 0}\n"
     ]
    }
   ],
   "source": [
    "prev_ts = 0\n",
    "for row in df.itertuples(index=False):\n",
    "    user, item, ts = get_user_id(row.user_id), get_item_id(row.item_id), row.timestamp\n",
    "    if ts != prev_ts:\n",
    "        print(\"==== time {} ====\".format(prev_ts))\n",
    "        print(\"Line graph edges:\", line_g.edges())\n",
    "        print(\"Line graph exists:\", nx.get_node_attributes(line_g, \"exists\"))\n",
    "        prev_ts = ts\n",
    "    if orig_g.degree(user) > 0:  # This user is already connected\n",
    "        for i in orig_g.neighbors(user):\n",
    "            line_g.add_edge((user, item), (user, i))\n",
    "    if orig_g.degree(item) > 0:  # This item is already connected\n",
    "        for u in orig_g.neighbors(item):\n",
    "            line_g.add_edge((user, item), (u, item))\n",
    "    orig_g.add_edge(user, item, timestamp=ts)\n",
    "    line_g.nodes[(user, item)][\"exists\"] = 1"
   ]
  },
  {
   "cell_type": "code",
   "execution_count": 46,
   "id": "3139722a-3abc-465c-97da-fc3e3c0e9c12",
   "metadata": {},
   "outputs": [
    {
     "name": "stdout",
     "output_type": "stream",
     "text": [
      "==== time 2 ====\n",
      "Line graph edges: [(('u0', 'i0'), ('u0', 'i1')), (('u0', 'i0'), ('u2', 'i0')), (('u0', 'i1'), ('u1', 'i1')), (('u1', 'i1'), ('u1', 'i2')), (('u1', 'i2'), ('u2', 'i2')), (('u2', 'i0'), ('u2', 'i2'))]\n",
      "Line graph exists: {('u0', 'i0'): 1, ('u0', 'i1'): 1, ('u0', 'i2'): 0, ('u1', 'i0'): 0, ('u1', 'i1'): 1, ('u1', 'i2'): 1, ('u2', 'i0'): 1, ('u2', 'i1'): 0, ('u2', 'i2'): 1}\n"
     ]
    }
   ],
   "source": [
    "print(\"==== time {} ====\".format(prev_ts))\n",
    "print(\"Line graph edges:\", line_g.edges())\n",
    "print(\"Line graph exists:\", nx.get_node_attributes(line_g, \"exists\"))"
   ]
  },
  {
   "cell_type": "code",
   "execution_count": null,
   "id": "1448dce4-4045-42d0-b2b0-453d514d51f5",
   "metadata": {},
   "outputs": [],
   "source": []
  }
 ],
 "metadata": {
  "kernelspec": {
   "display_name": "Python 3 (ipykernel)",
   "language": "python",
   "name": "python3"
  },
  "language_info": {
   "codemirror_mode": {
    "name": "ipython",
    "version": 3
   },
   "file_extension": ".py",
   "mimetype": "text/x-python",
   "name": "python",
   "nbconvert_exporter": "python",
   "pygments_lexer": "ipython3",
   "version": "3.9.10"
  }
 },
 "nbformat": 4,
 "nbformat_minor": 5
}
