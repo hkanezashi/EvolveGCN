{
 "cells": [
  {
   "cell_type": "code",
   "execution_count": 1,
   "id": "16dd5878-84d2-4483-8c24-b6eced251e9c",
   "metadata": {},
   "outputs": [],
   "source": [
    "from tqdm import tqdm\n",
    "\n",
    "import numpy as np\n",
    "import torch\n",
    "import torch.nn.functional as F\n",
    "from torch_geometric_temporal.nn.recurrent import EvolveGCNH\n",
    "\n",
    "from torch_geometric_temporal.dataset import TwitterTennisDatasetLoader\n",
    "from torch_geometric_temporal.signal import temporal_signal_split"
   ]
  },
  {
   "cell_type": "code",
   "execution_count": 2,
   "id": "93939e3a-72b5-48ad-9229-5eb2c5392a28",
   "metadata": {},
   "outputs": [],
   "source": [
    "loader = TwitterTennisDatasetLoader()\n",
    "\n",
    "dataset = loader.get_dataset()\n",
    "\n",
    "train_dataset, test_dataset = temporal_signal_split(dataset, train_ratio=0.2)"
   ]
  },
  {
   "cell_type": "code",
   "execution_count": 3,
   "id": "e0cffced-3efb-4c23-af5e-de454371c578",
   "metadata": {},
   "outputs": [
    {
     "name": "stdout",
     "output_type": "stream",
     "text": [
      "Num timestamps: 24\n",
      "feats: 0.0 1.0\n",
      "(1000, 16)\n",
      "edge_index: [[ 42 909 909 909 233 233 450 256 256 256 256 256 434 434 434 233 233 233\n",
      "  233 233 233 233   9   9 355  84  84  84  84 140 140 140 140   0 140 238\n",
      "  238 238 649 875 875 234  73  73 341 341 341 341 341 417 293 991  74 581\n",
      "  282 162 144 383 383 135 135 910 910 910 910 910  87  87  87  87   9   9\n",
      "  934 934 162 225  42 911 911 911 911 911 911 911 911 498 498  64 435]\n",
      " [  0 138   5   0   1 121 389 133 124 103   0 436   0   2 926 256 103 133\n",
      "    0 436 124 155   0   8   0  15 457   0  17   3   8  74   0   5   9   0\n",
      "    6  15   2   0   5   0  31  73   8   9  13  32   0   0   0   1   0   0\n",
      "    0   0   0   0   9   0   4 670 846   4   0 679 564   0 119 128  32  74\n",
      "    5   8 244   0  11   0  79  54  32 119   8 225  19  24   0   7   0]]\n",
      "edge_weight: [2 1 1 1 1 1 1 1 1 1 1 1 1 1 1 1 1 1 1 1 1 1 1 1 1 1 1 1 1 1 1 1 1 1 1 1 1\n",
      " 1 1 1 1 1 1 1 1 1 1 1 2 1 1 1 1 1 1 1 1 1 1 1 1 1 1 1 2 2 1 1 1 1 1 1 1 1\n",
      " 1 1 3 2 1 1 1 1 2 2 2 1 1 1 3]\n",
      "targets: 0.0 4.836281906951478\n",
      "(1000,)\n"
     ]
    }
   ],
   "source": [
    "print(\"Num timestamps:\", train_dataset.snapshot_count)\n",
    "feats = train_dataset.features[0]\n",
    "print(\"feats:\", np.min(feats), np.max(feats))\n",
    "print(feats.shape)\n",
    "print(\"edge_index:\", train_dataset.edge_indices[0])\n",
    "print(\"edge_weight:\", train_dataset.edge_weights[0])\n",
    "targets = train_dataset.targets[0]\n",
    "print(\"targets:\", np.min(targets), np.max(targets))\n",
    "print(targets.shape)"
   ]
  },
  {
   "cell_type": "code",
   "execution_count": 4,
   "id": "fbfd5d69-7829-497b-be2b-20508cf337c6",
   "metadata": {},
   "outputs": [],
   "source": [
    "# Link prediction\n",
    "\n",
    "def gather_node_embs(x, edge_index):\n",
    "    cls_input = list()\n",
    "    for node_index in edge_index:\n",
    "        cls_input.append(x[node_index])\n",
    "    return torch.cat(cls_input, dim=1)\n",
    "\n",
    "class Classifier(torch.nn.Module):\n",
    "    def __init__(self, in_feats, cls_feats, out_class):\n",
    "        super(Classifier, self).__init__()\n",
    "        lin1 = torch.nn.Linear(in_features=in_feats, out_features=cls_feats)\n",
    "        activation = torch.nn.ReLU()\n",
    "        lin2 = torch.nn.Linear(in_features=cls_feats, out_features=out_class)\n",
    "        self.mlp = torch.nn.Sequential(lin1, activation, lin2)\n",
    "    \n",
    "    def forward(self, x):\n",
    "        return self.mlp(x)\n",
    "\n",
    "class EGCNH_Link(torch.nn.Module):\n",
    "    def __init__(self, node_count, node_features):\n",
    "        super(EGCNH_Link, self).__init__()\n",
    "        edge_features = node_features * 2  # Concat src and dst features\n",
    "        self.recurrent = EvolveGCNH(node_count, node_features)\n",
    "        self.classifier = Classifier(edge_features, edge_features, 2)\n",
    "    \n",
    "    def forward(self, x, edge_index, edge_weight):\n",
    "        nodes_embs = self.recurrent(x, edge_index, edge_weight)\n",
    "        cls_input = gather_node_embs(nodes_embs, edge_index)\n",
    "        out = self.classifier(cls_input)\n",
    "        return out"
   ]
  },
  {
   "cell_type": "code",
   "execution_count": 5,
   "id": "7376665e-80c3-41ef-8c28-1f2f6a731c85",
   "metadata": {},
   "outputs": [
    {
     "name": "stdout",
     "output_type": "stream",
     "text": [
      "1000 16\n"
     ]
    },
    {
     "data": {
      "text/plain": [
       "EGCNH_Link(\n",
       "  (recurrent): EvolveGCNH(\n",
       "    (pooling_layer): TopKPooling(16, ratio=0.016, multiplier=1.0)\n",
       "    (recurrent_layer): GRU(16, 16)\n",
       "    (conv_layer): GCNConv_Fixed_W(16, 16)\n",
       "  )\n",
       "  (classifier): Classifier(\n",
       "    (mlp): Sequential(\n",
       "      (0): Linear(in_features=32, out_features=32, bias=True)\n",
       "      (1): ReLU()\n",
       "      (2): Linear(in_features=32, out_features=2, bias=True)\n",
       "    )\n",
       "  )\n",
       ")"
      ]
     },
     "execution_count": 5,
     "metadata": {},
     "output_type": "execute_result"
    }
   ],
   "source": [
    "num_nodes, num_feats = dataset.features[0].shape\n",
    "print(num_nodes, num_feats)\n",
    "model = EGCNH_Link(node_count=num_nodes, node_features=num_feats)\n",
    "optimizer = torch.optim.Adam(model.parameters(), lr=0.01)\n",
    "model.train()"
   ]
  },
  {
   "cell_type": "code",
   "execution_count": 6,
   "id": "79b9206e-6d76-4e09-a211-16ba3c0e9937",
   "metadata": {},
   "outputs": [
    {
     "name": "stdout",
     "output_type": "stream",
     "text": [
      "step 0: torch.Size([1000, 16]) torch.Size([2, 89]) torch.Size([89, 2])\n",
      "tensor([[ 0.1029, -0.1360],\n",
      "        [ 0.1103, -0.1215],\n",
      "        [ 0.0992, -0.1524],\n",
      "        [ 0.0994, -0.1319],\n",
      "        [ 0.1033, -0.0747],\n",
      "        [ 0.0990, -0.0608],\n",
      "        [ 0.0444, -0.0596],\n",
      "        [ 0.1102, -0.1043],\n",
      "        [ 0.1102, -0.1043],\n",
      "        [ 0.1102, -0.1043]], grad_fn=<SliceBackward0>)\n"
     ]
    }
   ],
   "source": [
    "for step, snapshot in enumerate(train_dataset):\n",
    "    y_hat = model(snapshot.x, snapshot.edge_index, snapshot.edge_attr)\n",
    "    print(\"step {}:\".format(step), snapshot.x.shape, snapshot.edge_index.shape, y_hat.shape)\n",
    "    print(y_hat[:10])\n",
    "    break"
   ]
  },
  {
   "cell_type": "code",
   "execution_count": null,
   "id": "ce4a45ec-5bd7-4a67-89cf-d8fa73ab8a04",
   "metadata": {},
   "outputs": [],
   "source": []
  }
 ],
 "metadata": {
  "kernelspec": {
   "display_name": "Python 3 (ipykernel)",
   "language": "python",
   "name": "python3"
  },
  "language_info": {
   "codemirror_mode": {
    "name": "ipython",
    "version": 3
   },
   "file_extension": ".py",
   "mimetype": "text/x-python",
   "name": "python",
   "nbconvert_exporter": "python",
   "pygments_lexer": "ipython3",
   "version": "3.9.10"
  }
 },
 "nbformat": 4,
 "nbformat_minor": 5
}
