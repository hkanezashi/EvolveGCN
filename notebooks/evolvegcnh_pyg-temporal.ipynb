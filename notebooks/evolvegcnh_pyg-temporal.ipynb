{
 "cells": [
  {
   "cell_type": "code",
   "execution_count": 1,
   "id": "16dd5878-84d2-4483-8c24-b6eced251e9c",
   "metadata": {},
   "outputs": [],
   "source": [
    "%load_ext autoreload\n",
    "import os\n",
    "import sys\n",
    "\n",
    "import numpy as np\n",
    "import torch\n",
    "import torch.nn.functional as F\n",
    "from torch_geometric_temporal.nn.recurrent import EvolveGCNH\n",
    "from torch_geometric_temporal.signal import temporal_signal_split\n",
    "\n",
    "sys.path.append(\"..\")\n",
    "from pyg_temporal.temporal_graph import DatasetLoader"
   ]
  },
  {
   "cell_type": "code",
   "execution_count": 2,
   "id": "93939e3a-72b5-48ad-9229-5eb2c5392a28",
   "metadata": {},
   "outputs": [
    {
     "name": "stdout",
     "output_type": "stream",
     "text": [
      "Loading edges: ../data/mooc/edge_0.csv\n",
      "Loading edges: ../data/mooc/edge_1.csv\n",
      "Loading edges: ../data/mooc/edge_2.csv\n",
      "Loading edges: ../data/mooc/edge_3.csv\n",
      "Loading edges: ../data/mooc/edge_4.csv\n",
      "Loading edges: ../data/mooc/edge_5.csv\n",
      "Loading edges: ../data/mooc/edge_6.csv\n",
      "Loading edges: ../data/mooc/edge_7.csv\n",
      "Loading edges: ../data/mooc/edge_8.csv\n",
      "Loading edges: ../data/mooc/edge_9.csv\n",
      "Loading edges: ../data/mooc/edge_10.csv\n",
      "Loading edges: ../data/mooc/edge_11.csv\n",
      "Loading edges: ../data/mooc/edge_12.csv\n",
      "Loading edges: ../data/mooc/edge_13.csv\n",
      "Loading edges: ../data/mooc/edge_14.csv\n",
      "Loading edges: ../data/mooc/edge_15.csv\n",
      "Loading edges: ../data/mooc/edge_16.csv\n",
      "Loading edges: ../data/mooc/edge_17.csv\n",
      "Loading edges: ../data/mooc/edge_18.csv\n",
      "Loading edges: ../data/mooc/edge_19.csv\n",
      "Loading edges: ../data/mooc/edge_20.csv\n",
      "Loading edges: ../data/mooc/edge_21.csv\n",
      "Loading edges: ../data/mooc/edge_22.csv\n",
      "Loading edges: ../data/mooc/edge_23.csv\n",
      "Loading edges: ../data/mooc/edge_24.csv\n",
      "Loading edges: ../data/mooc/edge_25.csv\n",
      "Loading edges: ../data/mooc/edge_26.csv\n",
      "Loading edges: ../data/mooc/edge_27.csv\n",
      "Loading edges: ../data/mooc/edge_28.csv\n",
      "Loading edges: ../data/mooc/edge_29.csv\n",
      "Loading vertices: ../data/mooc/label_0.csv ../data/mooc/feat_0.csv\n",
      "Loading vertices: ../data/mooc/label_1.csv ../data/mooc/feat_1.csv\n",
      "Loading vertices: ../data/mooc/label_2.csv ../data/mooc/feat_2.csv\n",
      "Loading vertices: ../data/mooc/label_3.csv ../data/mooc/feat_3.csv\n",
      "Loading vertices: ../data/mooc/label_4.csv ../data/mooc/feat_4.csv\n",
      "Loading vertices: ../data/mooc/label_5.csv ../data/mooc/feat_5.csv\n",
      "Loading vertices: ../data/mooc/label_6.csv ../data/mooc/feat_6.csv\n",
      "Loading vertices: ../data/mooc/label_7.csv ../data/mooc/feat_7.csv\n",
      "Loading vertices: ../data/mooc/label_8.csv ../data/mooc/feat_8.csv\n",
      "Loading vertices: ../data/mooc/label_9.csv ../data/mooc/feat_9.csv\n",
      "Loading vertices: ../data/mooc/label_10.csv ../data/mooc/feat_10.csv\n",
      "Loading vertices: ../data/mooc/label_11.csv ../data/mooc/feat_11.csv\n",
      "Loading vertices: ../data/mooc/label_12.csv ../data/mooc/feat_12.csv\n",
      "Loading vertices: ../data/mooc/label_13.csv ../data/mooc/feat_13.csv\n",
      "Loading vertices: ../data/mooc/label_14.csv ../data/mooc/feat_14.csv\n",
      "Loading vertices: ../data/mooc/label_15.csv ../data/mooc/feat_15.csv\n",
      "Loading vertices: ../data/mooc/label_16.csv ../data/mooc/feat_16.csv\n",
      "Loading vertices: ../data/mooc/label_17.csv ../data/mooc/feat_17.csv\n",
      "Loading vertices: ../data/mooc/label_18.csv ../data/mooc/feat_18.csv\n",
      "Loading vertices: ../data/mooc/label_19.csv ../data/mooc/feat_19.csv\n",
      "Loading vertices: ../data/mooc/label_20.csv ../data/mooc/feat_20.csv\n",
      "Loading vertices: ../data/mooc/label_21.csv ../data/mooc/feat_21.csv\n",
      "Loading vertices: ../data/mooc/label_22.csv ../data/mooc/feat_22.csv\n",
      "Loading vertices: ../data/mooc/label_23.csv ../data/mooc/feat_23.csv\n",
      "Loading vertices: ../data/mooc/label_24.csv ../data/mooc/feat_24.csv\n",
      "Loading vertices: ../data/mooc/label_25.csv ../data/mooc/feat_25.csv\n",
      "Loading vertices: ../data/mooc/label_26.csv ../data/mooc/feat_26.csv\n",
      "Loading vertices: ../data/mooc/label_27.csv ../data/mooc/feat_27.csv\n",
      "Loading vertices: ../data/mooc/label_28.csv ../data/mooc/feat_28.csv\n",
      "Loading vertices: ../data/mooc/label_29.csv ../data/mooc/feat_29.csv\n",
      "CPU times: user 2min 39s, sys: 5.72 s, total: 2min 45s\n",
      "Wall time: 2min 48s\n"
     ]
    }
   ],
   "source": [
    "%%time\n",
    "%autoreload\n",
    "data_dir = os.path.join(\"..\", \"data\", \"mooc\")\n",
    "loader = DatasetLoader()\n",
    "dataset = loader.get_dataset(data_dir, 30)\n",
    "\n",
    "train_dataset, test_dataset = temporal_signal_split(dataset, train_ratio=0.8)"
   ]
  },
  {
   "cell_type": "code",
   "execution_count": 3,
   "id": "e0cffced-3efb-4c23-af5e-de454371c578",
   "metadata": {},
   "outputs": [
    {
     "name": "stdout",
     "output_type": "stream",
     "text": [
      "Num timestamps: 24\n",
      "feats: 0.0 1.0 (683559, 4)\n",
      "edge_index: [[    0     0     0 ... 50928 51023 51120]\n",
      " [    1     2     3 ... 51122 51120 51122]]\n",
      "targets: 0 1 (683559,)\n"
     ]
    }
   ],
   "source": [
    "print(\"Num timestamps:\", train_dataset.snapshot_count)\n",
    "feats = train_dataset.features[0]\n",
    "print(\"feats:\", np.min(feats), np.max(feats), feats.shape)\n",
    "print(\"edge_index:\", train_dataset.edge_indices[0])\n",
    "# print(\"edge_weight:\", train_dataset.edge_weights[0])\n",
    "targets = train_dataset.targets[0]\n",
    "print(\"targets:\", np.min(targets), np.max(targets), targets.shape)"
   ]
  },
  {
   "cell_type": "code",
   "execution_count": 4,
   "id": "fbfd5d69-7829-497b-be2b-20508cf337c6",
   "metadata": {},
   "outputs": [],
   "source": [
    "# EvolveGCN-H\n",
    "class EGCN_H(torch.nn.Module):\n",
    "    def __init__(self, num_nodes, num_features, hidden_size, num_classes=2):\n",
    "        super().__init__()\n",
    "        self.recurrent = EvolveGCNH(num_nodes, num_features)\n",
    "        self.mlp = torch.nn.Sequential(torch.nn.Linear(num_features, hidden_size),\n",
    "                                       torch.nn.ReLU(),\n",
    "                                       torch.nn.Linear(hidden_size, num_classes))\n",
    "\n",
    "    def forward(self, x, edge_index, edge_weight):\n",
    "        h = self.recurrent(x, edge_index, edge_weight)\n",
    "        h = F.relu(h)\n",
    "        h = self.mlp(h)\n",
    "        h = F.log_softmax(h, dim=1)\n",
    "        return h"
   ]
  },
  {
   "cell_type": "code",
   "execution_count": 5,
   "id": "7376665e-80c3-41ef-8c28-1f2f6a731c85",
   "metadata": {},
   "outputs": [
    {
     "name": "stdout",
     "output_type": "stream",
     "text": [
      "683559 4\n"
     ]
    },
    {
     "data": {
      "text/plain": [
       "EGCN_H(\n",
       "  (recurrent): EvolveGCNH(\n",
       "    (pooling_layer): TopKPooling(4, ratio=5.851726039741997e-06, multiplier=1.0)\n",
       "    (recurrent_layer): GRU(4, 4)\n",
       "    (conv_layer): GCNConv_Fixed_W(4, 4)\n",
       "  )\n",
       "  (mlp): Sequential(\n",
       "    (0): Linear(in_features=4, out_features=128, bias=True)\n",
       "    (1): ReLU()\n",
       "    (2): Linear(in_features=128, out_features=2, bias=True)\n",
       "  )\n",
       ")"
      ]
     },
     "execution_count": 5,
     "metadata": {},
     "output_type": "execute_result"
    }
   ],
   "source": [
    "num_nodes, num_feats = dataset.features[0].shape\n",
    "print(num_nodes, num_feats)\n",
    "model = EGCN_H(num_nodes, num_feats, 128)\n",
    "optimizer = torch.optim.Adam(model.parameters(), lr=0.01)\n",
    "model.train()"
   ]
  },
  {
   "cell_type": "code",
   "execution_count": 6,
   "id": "79b9206e-6d76-4e09-a211-16ba3c0e9937",
   "metadata": {},
   "outputs": [
    {
     "name": "stdout",
     "output_type": "stream",
     "text": [
      "step: 0\n",
      "step: 1\n",
      "step: 2\n",
      "step: 3\n",
      "step: 4\n",
      "step: 5\n",
      "step: 6\n",
      "step: 7\n",
      "step: 8\n",
      "step: 9\n",
      "step: 10\n",
      "step: 11\n",
      "step: 12\n",
      "step: 13\n",
      "step: 14\n",
      "step: 15\n",
      "step: 16\n",
      "step: 17\n",
      "step: 18\n",
      "step: 19\n",
      "step: 20\n",
      "step: 21\n",
      "step: 22\n",
      "step: 23\n",
      "CPU times: user 37.5 s, sys: 5.15 s, total: 42.6 s\n",
      "Wall time: 19.5 s\n"
     ]
    }
   ],
   "source": [
    "%%time\n",
    "# Training\n",
    "for step, snapshot in enumerate(train_dataset):\n",
    "    print(\"step:\", step)\n",
    "    y_hat = model(snapshot.x, snapshot.edge_index, snapshot.edge_weight)\n",
    "    loss = F.nll_loss(y_hat, snapshot.y)\n",
    "    loss.backward(retain_graph=True)"
   ]
  },
  {
   "cell_type": "code",
   "execution_count": 7,
   "id": "ce4a45ec-5bd7-4a67-89cf-d8fa73ab8a04",
   "metadata": {},
   "outputs": [
    {
     "name": "stdout",
     "output_type": "stream",
     "text": [
      "Loss: 0.6206\n",
      "CPU times: user 5.16 s, sys: 1.57 s, total: 6.73 s\n",
      "Wall time: 3.34 s\n"
     ]
    }
   ],
   "source": [
    "%%time\n",
    "# Testing\n",
    "model.eval()\n",
    "loss = 0\n",
    "for step, snapshot in enumerate(test_dataset):\n",
    "    if step == 0:\n",
    "        model.recurrent.weight = None\n",
    "    y_hat = model(snapshot.x, snapshot.edge_index, snapshot.edge_weight)\n",
    "    loss = loss + F.nll_loss(y_hat, snapshot.y)\n",
    "loss = loss / (step+1)\n",
    "loss = loss.item()\n",
    "print(\"Loss: {:.4f}\".format(loss))\n",
    "\n",
    "predictions = list(y_hat.detach().cpu())\n",
    "actual = snapshot.y"
   ]
  },
  {
   "cell_type": "code",
   "execution_count": 8,
   "id": "5473c508-63bf-4f2c-b32a-df85bd061f09",
   "metadata": {},
   "outputs": [],
   "source": [
    "tp, fp, tn, fn = 0, 0, 0, 0\n",
    "for pred, act in zip(predictions, actual):\n",
    "    is_exist = pred[0] <= pred[1]\n",
    "    if is_exist:\n",
    "        if act:\n",
    "            tp += 1\n",
    "        else:\n",
    "            fp += 1\n",
    "    else:\n",
    "        if act:\n",
    "            fn += 1\n",
    "        else:\n",
    "            tn += 1"
   ]
  },
  {
   "cell_type": "code",
   "execution_count": 9,
   "id": "c2976298-05bb-407d-9893-14878368bddf",
   "metadata": {},
   "outputs": [
    {
     "name": "stdout",
     "output_type": "stream",
     "text": [
      "TP: 0, FP: 0, TN: 674477, FN: 9082\n",
      "Precision: 0.0000, Recall: 0.0000, F1: 0.0000\n"
     ]
    }
   ],
   "source": [
    "precision = 0.0 if tp == 0 else tp / (tp+fp)\n",
    "recall = 0.0 if tp == 0 else tp / (tp+fn)\n",
    "f1 = 0.0 if tp == 0 else 2 * precision * recall / (precision + recall)\n",
    "print(\"TP: {}, FP: {}, TN: {}, FN: {}\".format(tp, fp, tn, fn))\n",
    "print(\"Precision: {:.4f}, Recall: {:.4f}, F1: {:.4f}\".format(precision, recall, f1))"
   ]
  },
  {
   "cell_type": "code",
   "execution_count": null,
   "id": "574d36d0-ecd1-4465-b2a5-4083e041099a",
   "metadata": {},
   "outputs": [],
   "source": []
  }
 ],
 "metadata": {
  "kernelspec": {
   "display_name": "Python 3 (ipykernel)",
   "language": "python",
   "name": "python3"
  },
  "language_info": {
   "codemirror_mode": {
    "name": "ipython",
    "version": 3
   },
   "file_extension": ".py",
   "mimetype": "text/x-python",
   "name": "python",
   "nbconvert_exporter": "python",
   "pygments_lexer": "ipython3",
   "version": "3.9.10"
  }
 },
 "nbformat": 4,
 "nbformat_minor": 5
}
